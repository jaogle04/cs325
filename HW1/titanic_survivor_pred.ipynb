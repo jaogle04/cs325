{
 "cells": [
  {
   "metadata": {
    "collapsed": true
   },
   "cell_type": "markdown",
   "source": "#### Loading Packages",
   "id": "f6d97ecd2ff6ccc2"
  },
  {
   "metadata": {
    "ExecuteTime": {
     "end_time": "2025-09-16T20:43:14.067467Z",
     "start_time": "2025-09-16T20:43:14.063894Z"
    }
   },
   "cell_type": "code",
   "source": [
    "import pandas as pd\n",
    "import numpy as np\n",
    "import matplotlib.pyplot as plt"
   ],
   "id": "39ba64447978dd66",
   "outputs": [],
   "execution_count": 33
  },
  {
   "metadata": {},
   "cell_type": "markdown",
   "source": [
    "#### Read in & Clean Data\n",
    "- will need to remove cabin and age columns\n",
    "- some cells in embarked are null so won't need to remove all but can just remove those rows"
   ],
   "id": "b408d3642e6534e0"
  },
  {
   "metadata": {
    "ExecuteTime": {
     "end_time": "2025-09-16T20:41:22.295762Z",
     "start_time": "2025-09-16T20:41:22.283438Z"
    }
   },
   "cell_type": "code",
   "source": [
    "original_data = pd.read_csv(\"./titanic-data/train.csv\")\n",
    "print(f\"Training data original shape: {original_data.shape}\")\n",
    "\n",
    "# Removing columns and rows will null data cells\n",
    "training_data = original_data.drop(columns = 'Cabin') # removed whole column since majority were NA\n",
    "training_data = training_data.dropna() # cleans out NA values spread out between columns by removing whole entire row\n",
    "\n",
    "# print(f\"Cabin Column Dropped due to many null values:\\n{training_data}\")\n",
    "print(f\"Training data shape after cleaning: {training_data.shape}\")\n",
    "print(f\"Samples Removed: {original_data.shape[0] - training_data.shape[0]}\")"
   ],
   "id": "3654f99c53979659",
   "outputs": [
    {
     "name": "stdout",
     "output_type": "stream",
     "text": [
      "Training data original shape: (891, 12)\n",
      "Training data shape after cleaning: (712, 11)\n",
      "Samples Removed: 179\n"
     ]
    }
   ],
   "execution_count": 26
  },
  {
   "metadata": {},
   "cell_type": "markdown",
   "source": [
    "#### One Hot Encoding\n",
    "- go back and implement own one hot encoding function"
   ],
   "id": "eb87f19b16010b95"
  },
  {
   "metadata": {
    "ExecuteTime": {
     "end_time": "2025-09-16T20:41:22.331898Z",
     "start_time": "2025-09-16T20:41:22.320066Z"
    }
   },
   "cell_type": "code",
   "source": [
    "X = training_data.drop('Survived', axis = 1)\n",
    "# removes columns that have no effect on an outcome and help reduce dimensionality before training\n",
    "X = X.drop(['PassengerId', 'Name', 'Ticket'], axis = 1)\n",
    "print(f\"Training data before one-hot encoding:\\n\\n{X.head()}\")\n",
    "y = training_data['Survived']\n",
    "\n",
    "X = pd.get_dummies(X, columns=['Sex', 'Embarked'], dtype=int, drop_first = True)\n",
    "\n",
    "# Sex_female and Embarked_C not included due to drop_first being set to True\n",
    "print(\"\\n\\n\")\n",
    "print(f\"Training data after one-hot encoding:\\n\\n{X.head()}\")"
   ],
   "id": "41da79c3f58c6510",
   "outputs": [
    {
     "name": "stdout",
     "output_type": "stream",
     "text": [
      "Training data before one-hot encoding:\n",
      "\n",
      "   Pclass     Sex   Age  SibSp  Parch     Fare Embarked\n",
      "0       3    male  22.0      1      0   7.2500        S\n",
      "1       1  female  38.0      1      0  71.2833        C\n",
      "2       3  female  26.0      0      0   7.9250        S\n",
      "3       1  female  35.0      1      0  53.1000        S\n",
      "4       3    male  35.0      0      0   8.0500        S\n",
      "\n",
      "\n",
      "\n",
      "Training data after one-hot encoding:\n",
      "\n",
      "   Pclass   Age  SibSp  Parch     Fare  Sex_male  Embarked_Q  Embarked_S\n",
      "0       3  22.0      1      0   7.2500         1           0           1\n",
      "1       1  38.0      1      0  71.2833         0           0           0\n",
      "2       3  26.0      0      0   7.9250         0           0           1\n",
      "3       1  35.0      1      0  53.1000         0           0           1\n",
      "4       3  35.0      0      0   8.0500         1           0           1\n"
     ]
    }
   ],
   "execution_count": 27
  },
  {
   "metadata": {},
   "cell_type": "markdown",
   "source": "#### Functions for Logistic Regression",
   "id": "e0b3319650654966"
  },
  {
   "metadata": {
    "ExecuteTime": {
     "end_time": "2025-09-16T21:00:02.034867Z",
     "start_time": "2025-09-16T21:00:02.027373Z"
    }
   },
   "cell_type": "code",
   "source": [
    "def sigmoid(z):\n",
    "  #   returns sigmoid = 1/(1 + e^-z)\n",
    "  #   -> handles vectors/matrices\n",
    "  sigmoid = 1 / (1 + np.exp(-z))\n",
    "  return sigmoid\n",
    "\n",
    "\n",
    "def initialize_params(m_features, seed=None):\n",
    "  #   returns vector (w) of size (m x 1) features with small random numbers, and the scalar b initialized to 0\n",
    "  #   -> b = 0\n",
    "  #   call this from one-hot encoding or create another section after one-hot encoding to do this\n",
    "  #   - plug our samples into this function to get y_hat values\n",
    "  # (0, 0.01) represents a gaussian distribution with mean 0 and std 0.01\n",
    "  # -> might need to be adjusted late for model accuracy\n",
    "  w = np.random.default_rng(seed).normal(0, 0.01, size=(m_features, 1))\n",
    "  b = 0\n",
    "  return w, b\n",
    "\n",
    "\n",
    "def forward(X, w, b):\n",
    "  #   returns\n",
    "  #     z = X * w + b\n",
    "  #     y_hat (pred) = sigmoid(z)\n",
    "  X = X.to_numpy()\n",
    "  z = np.dot(X, w) + b\n",
    "  y_hat = sigmoid(z)\n",
    "  return y_hat, z\n",
    "\n",
    "\n",
    "def compute_cost(y, y_hat, eps=1e-12):\n",
    "  #   -> computes binary cross-entropy cost w/ optional L2 penalty\n",
    "  #   - check with notes:\n",
    "  #     -> cost = -1/n * sum(y_i * log(y_hat_i) + (1 - y_i) * log(1 - y_hat_i))\n",
    "  #     -> cost += reg_lambda / 2 * sum(w^2)\n",
    "  n = X.shape[0]\n",
    "  y = y.to_numpy()\n",
    "  y = y.reshape(n, 1)\n",
    "  y_hat = np.clip(y_hat, eps, 1 - eps)\n",
    "  cost = -np.mean(y * np.log(y_hat) + (1 - y) * np.log(1 - y_hat))\n",
    "  return cost\n",
    "\n",
    "\n",
    "def compute_gradients(X, y, y_hat, w, reg_lambda=0.0):\n",
    "  #   - dw = (1/n) * X * (y_hat - y) + (reg_lambda / n) * w\n",
    "  #   - db = (1/n) * sum(y_hat_i - y_i) -> find the mean difference between y_hat (pred) and y (target)\n",
    "  X = X.to_numpy()\n",
    "  n = X.shape[0]  # represents num of features\n",
    "  y = y.to_numpy()\n",
    "  y = y.reshape(n, 1)\n",
    "  pred_difference = y_hat - y\n",
    "  dw = (1 / n) * np.dot(X.T, pred_difference) + (reg_lambda / n) * w\n",
    "  db = (1 / n) * (y_hat - y).sum()  # .sum() allows us to take a sum of differences between prediction and target\n",
    "  return dw, db\n",
    "\n",
    "\n",
    "def update_params(w, b, dw, db, lr):\n",
    "  #   Gradient step -> w: = w - (lr * dw)\n",
    "  #                 -> b: = b - (lr * db)\n",
    "  w = w - (lr * dw)\n",
    "  b = b - (lr * db)\n",
    "  return w, b\n",
    "\n",
    "\n",
    "def train(X, y, lr, n_epochs, reg_lambda=0.0, X_val=None, y_val=None):\n",
    "  #   I. training loop\n",
    "  #       1.) forward pass\n",
    "  #       2.) compute cost\n",
    "  #       3.) compute gradients\n",
    "  #       4.) update parameters\n",
    "  #            -> track expected loss for each iteration. if X_val and y_val are provided, it will also track validation loss\n",
    "  features = X.shape[1]\n",
    "  w, b = initialize_params(features, seed=None)\n",
    "  cost_history = []\n",
    "\n",
    "  for epoch in range(n_epochs):\n",
    "    y_hat, z = forward(X, w, b)\n",
    "    cost = compute_cost(y, y_hat)\n",
    "    cost_history.append(cost)\n",
    "    dw, db = compute_gradients(X, y, y_hat, w, reg_lambda)\n",
    "    w, b = update_params(w, b, dw, db, lr)\n",
    "\n",
    "  #   II. Returns the trained parameters 'w' and 'b' and history of the cost for training and validation sets\n",
    "  return w, b, cost_history\n",
    "\n",
    "\n",
    "def predict_proba(X, w, b):\n",
    "  X = X.to_numpy()\n",
    "  y_hat = np.dot(X.T, w) + b\n",
    "  return y_hat"
   ],
   "id": "bc1b96e21757699b",
   "outputs": [],
   "execution_count": 54
  },
  {
   "metadata": {},
   "cell_type": "markdown",
   "source": "#### Training Model with Self-Made Functions",
   "id": "cf315745ec930ca1"
  },
  {
   "metadata": {
    "ExecuteTime": {
     "end_time": "2025-09-16T21:36:25.080703Z",
     "start_time": "2025-09-16T21:36:25.064186Z"
    }
   },
   "cell_type": "code",
   "source": [
    "learning_rate = 0.002\n",
    "n_epochs = 100\n",
    "valid_params, bias, cost_history = train(X, y, learning_rate, n_epochs, reg_lambda=0.0, X_val=None, y_val=None)\n",
    "print(type(cost_history))"
   ],
   "id": "7857cdbaf82f6423",
   "outputs": [
    {
     "name": "stdout",
     "output_type": "stream",
     "text": [
      "<class 'list'>\n"
     ]
    }
   ],
   "execution_count": 65
  },
  {
   "metadata": {},
   "cell_type": "markdown",
   "source": "#### Plotting Cost History",
   "id": "8baf407be0f093e"
  },
  {
   "metadata": {
    "ExecuteTime": {
     "end_time": "2025-09-16T21:36:25.877231Z",
     "start_time": "2025-09-16T21:36:25.720491Z"
    }
   },
   "cell_type": "code",
   "source": [
    "plt.figure(figsize=(10, 8))\n",
    "plt.plot(range(n_epochs), cost_history, marker='o', linewidth=1.5, label='Train Cost')\n",
    "plt.xlabel('Epoch')\n",
    "plt.ylabel('Cost')\n",
    "plt.title('Training Cost History')\n",
    "plt.legend()\n",
    "plt.show()"
   ],
   "id": "41790263138f75ff",
   "outputs": [
    {
     "data": {
      "text/plain": [
       "<Figure size 1000x800 with 1 Axes>"
      ],
      "image/png": "[encoded data removed]"
     },
     "metadata": {},
     "output_type": "display_data",
     "jetTransient": {
      "display_id": null
     }
    }
   ],
   "execution_count": 66
  },
  {
   "metadata": {},
   "cell_type": "markdown",
   "source": "#### Testing Accuracy of Model",
   "id": "d1625d69359f909b"
  },
  {
   "metadata": {},
   "cell_type": "code",
   "outputs": [],
   "execution_count": null,
   "source": "",
   "id": "14767511c6bff357"
  }
 ],
 "metadata": {
  "kernelspec": {
   "display_name": "Python 3",
   "language": "python",
   "name": "python3"
  },
  "language_info": {
   "codemirror_mode": {
    "name": "ipython",
    "version": 2
   },
   "file_extension": ".py",
   "mimetype": "text/x-python",
   "name": "python",
   "nbconvert_exporter": "python",
   "pygments_lexer": "ipython2",
   "version": "2.7.6"
  }
 },
 "nbformat": 4,
 "nbformat_minor": 5
}
