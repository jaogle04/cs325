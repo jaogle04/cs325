{
 "cells": [
  {
   "metadata": {
    "collapsed": true
   },
   "cell_type": "markdown",
   "source": "#### Loading Packages",
   "id": "f6d97ecd2ff6ccc2"
  },
  {
   "metadata": {
    "ExecuteTime": {
     "end_time": "2025-09-17T13:47:02.979108Z",
     "start_time": "2025-09-17T13:47:02.973582Z"
    }
   },
   "cell_type": "code",
   "source": [
    "import pandas as pd\n",
    "import numpy as np\n",
    "import matplotlib.pyplot as plt"
   ],
   "id": "39ba64447978dd66",
   "outputs": [],
   "execution_count": 18
  },
  {
   "metadata": {
    "ExecuteTime": {
     "end_time": "2025-09-16T21:47:59.400699Z",
     "start_time": "2025-09-16T21:47:59.397184Z"
    }
   },
   "cell_type": "markdown",
   "source": "#### Functions for Prepping Data",
   "id": "ea18e1de576dd2d9"
  },
  {
   "metadata": {
    "ExecuteTime": {
     "end_time": "2025-09-17T13:54:53.098152Z",
     "start_time": "2025-09-17T13:54:53.092873Z"
    }
   },
   "cell_type": "code",
   "source": [
    "def clean_data (data):\n",
    "  data = data.drop('Cabin', axis=1)\n",
    "  data = data.dropna()\n",
    "  data['Fare'] = min_max_normalize(data['Fare'])\n",
    "  data['Age'] = min_max_normalize(data['Age'])\n",
    "  return data\n",
    "\n",
    "def X_data (data):\n",
    "  # data = data.drop(['PassengerId', 'Name', 'Ticket', 'Cabin'], axis=1)\n",
    "  # columns_select = ['PassengerId', 'Pclass', 'Sex', 'Age', 'SibSp', 'Parch', 'Fare', 'Embarked']\n",
    "  columns_select = ['Pclass', 'Sex', 'Age', 'SibSp', 'Parch', 'Fare', 'Embarked']\n",
    "  X = data[columns_select]\n",
    "  X = X.dropna()\n",
    "  # y = data['Survived']\n",
    "  # X = data.drop('Survived', axis=1)\n",
    "  X = pd.get_dummies(X, columns=['Sex', 'Embarked'], dtype=int, drop_first=True)\n",
    "  return X\n",
    "\n",
    "def y_data (data):\n",
    "  y = data['Survived']\n",
    "  return y\n",
    "\n",
    "def min_max_normalize (column):\n",
    "  min_val = column.min()\n",
    "  max_val = column.max()\n",
    "  normalized_col = (column - min_val) / (max_val - min_val)\n",
    "  return normalized_col\n",
    "\n",
    "def split_data (X, y, train_size):\n",
    "  totalRows = X.shape[0]\n",
    "  # splitPoint = int(totalRows * (1 - val_size))\n",
    "  splitPoint = int(totalRows * train_size)\n",
    "  X_train = X[:splitPoint]\n",
    "  y_train = y[:splitPoint]\n",
    "  X_val = X[splitPoint:]\n",
    "  y_val = y[splitPoint:]\n",
    "  return X_train, y_train, X_val, y_val\n"
   ],
   "id": "20d6669366ababa8",
   "outputs": [],
   "execution_count": 33
  },
  {
   "metadata": {},
   "cell_type": "markdown",
   "source": [
    "#### Read in & Clean Data\n",
    "- will need to remove cabin and age columns\n",
    "- some cells in embarked are null so won't need to remove all but can just remove those rows"
   ],
   "id": "775f7250be309fef"
  },
  {
   "metadata": {
    "ExecuteTime": {
     "end_time": "2025-09-17T13:54:01.435612Z",
     "start_time": "2025-09-17T13:54:01.421125Z"
    }
   },
   "cell_type": "code",
   "source": [
    "training_data = pd.read_csv(\"./titanic-data/train.csv\")\n",
    "training_data = clean_data(training_data)"
   ],
   "id": "3654f99c53979659",
   "outputs": [],
   "execution_count": 30
  },
  {
   "metadata": {},
   "cell_type": "markdown",
   "source": [
    "#### Feature Scaling\n",
    "- go back and implement own one hot encoding function"
   ],
   "id": "eb87f19b16010b95"
  },
  {
   "metadata": {
    "ExecuteTime": {
     "end_time": "2025-09-17T13:57:26.413869Z",
     "start_time": "2025-09-17T13:57:26.402884Z"
    }
   },
   "cell_type": "code",
   "source": [
    "X_sample = X_data(training_data)\n",
    "y_sample = y_data(training_data)\n",
    "X_train, y_train, X_val, y_val = split_data(X_sample, y_sample, 0.2)\n",
    "\n",
    "# Sex_female and Embarked_C not included due to drop_first being set to True\n",
    "print(f\"Training data after one-hot encoding and min-max normalizing Age and Fare column:\\n\\n{X_train.head()}\")"
   ],
   "id": "41da79c3f58c6510",
   "outputs": [
    {
     "name": "stdout",
     "output_type": "stream",
     "text": [
      "     Pclass       Age  SibSp  Parch      Fare  Sex_male  Embarked_Q  \\\n",
      "172       3  0.007288      1      1  0.021731         0           0   \n",
      "173       3  0.258608      0      0  0.015469         1           0   \n",
      "174       1  0.698417      0      0  0.059914         1           0   \n",
      "175       3  0.220910      1      1  0.015330         1           0   \n",
      "177       1  0.623021      0      0  0.056043         0           0   \n",
      "\n",
      "     Embarked_S  \n",
      "172           1  \n",
      "173           1  \n",
      "174           0  \n",
      "175           1  \n",
      "177           0  \n",
      "     Pclass       Age  SibSp  Parch      Fare  Sex_male  Embarked_Q  \\\n",
      "178       2  0.371701      0      0  0.025374         1           0   \n",
      "179       3  0.447097      0      0  0.000000         1           0   \n",
      "182       3  0.107816      4      2  0.061264         1           0   \n",
      "183       2  0.007288      2      1  0.076123         1           0   \n",
      "184       3  0.044986      0      2  0.042990         0           0   \n",
      "\n",
      "     Embarked_S  \n",
      "178           1  \n",
      "179           1  \n",
      "182           1  \n",
      "183           1  \n",
      "184           1  \n"
     ]
    }
   ],
   "execution_count": 35
  },
  {
   "metadata": {},
   "cell_type": "markdown",
   "source": "#### Functions for Logistic Regression",
   "id": "e0b3319650654966"
  },
  {
   "metadata": {
    "ExecuteTime": {
     "end_time": "2025-09-17T13:47:03.074251Z",
     "start_time": "2025-09-17T13:47:03.064734Z"
    }
   },
   "cell_type": "code",
   "source": [
    "def sigmoid(z):\n",
    "  #   returns sigmoid = 1/(1 + e^-z)\n",
    "  #   -> handles vectors/matrices\n",
    "  sigmoid = 1 / (1 + np.exp(-z))\n",
    "  return sigmoid\n",
    "\n",
    "\n",
    "def initialize_params(m_features, seed=42):\n",
    "  #   returns vector (w) of size (m x 1) features with small random numbers, and the scalar b initialized to 0\n",
    "  #   -> b = 0\n",
    "  #   call this from one-hot encoding or create another section after one-hot encoding to do this\n",
    "  #   - plug our samples into this function to get y_hat values\n",
    "  # (0, 0.01) represents a gaussian distribution with mean 0 and std 0.01\n",
    "  # -> might need to be adjusted late for model accuracy\n",
    "  w = np.random.default_rng(seed).normal(0, 0.01, size=(m_features, 1))\n",
    "  b = 0\n",
    "  return w, b\n",
    "\n",
    "\n",
    "def forward(X, w, b):\n",
    "  #   returns\n",
    "  #     z = X * w + b\n",
    "  #     y_hat (pred) = sigmoid(z)\n",
    "  X = X.to_numpy()\n",
    "  z = np.dot(X, w) + b\n",
    "  y_hat = sigmoid(z)\n",
    "  return y_hat, z\n",
    "\n",
    "\n",
    "def compute_cost(y, y_hat, eps=1e-12):\n",
    "  #   -> computes binary cross-entropy cost w/ optional L2 penalty\n",
    "  #   - check with notes:\n",
    "  #     -> cost = -1/n * sum(y_i * log(y_hat_i) + (1 - y_i) * log(1 - y_hat_i))\n",
    "  #     -> cost += reg_lambda / 2 * sum(w^2)\n",
    "  n = y.shape[0]\n",
    "  y = y.to_numpy()\n",
    "  y = y.reshape(n, 1)\n",
    "  y_hat = np.clip(y_hat, eps, 1 - eps)\n",
    "  cost = -np.mean(y * np.log(y_hat) + (1 - y) * np.log(1 - y_hat))\n",
    "  return cost\n",
    "\n",
    "\n",
    "def compute_gradients(X, y, y_hat, w, reg_lambda=0.0):\n",
    "  #   - dw = (1/n) * X * (y_hat - y) + (reg_lambda / n) * w\n",
    "  #   - db = (1/n) * sum(y_hat_i - y_i) -> find the mean difference between y_hat (pred) and y (target)\n",
    "  X = X.to_numpy()\n",
    "  n = X.shape[0]  # represents num of features\n",
    "  y = y.to_numpy()\n",
    "  y = y.reshape(n, 1)\n",
    "  pred_difference = y_hat - y\n",
    "  dw = (1 / n) * np.dot(X.T, pred_difference) + (reg_lambda / n) * w\n",
    "  db = (1 / n) * (y_hat - y).sum()  # .sum() allows us to take a sum of differences between prediction and target\n",
    "  return dw, db\n",
    "\n",
    "\n",
    "def update_params(w, b, dw, db, lr):\n",
    "  #   Gradient step -> w: = w - (lr * dw)\n",
    "  #                 -> b: = b - (lr * db)\n",
    "  w = w - (lr * dw)\n",
    "  b = b - (lr * db)\n",
    "  return w, b\n",
    "\n",
    "\n",
    "def train(X, y, lr, n_epochs, reg_lambda=0.0, X_val=None, y_val=None):\n",
    "  #   I. training loop\n",
    "  #       1.) forward pass\n",
    "  #       2.) compute cost\n",
    "  #       3.) compute gradients\n",
    "  #       4.) update parameters\n",
    "  #            -> track expected loss for each iteration. if X_val and y_val are provided, it will also track validation loss\n",
    "  features = X.shape[1]\n",
    "  w, b = initialize_params(features, seed=42)\n",
    "  cost_history = []\n",
    "\n",
    "  for epoch in range(n_epochs):\n",
    "    y_hat, z = forward(X, w, b)\n",
    "    cost = compute_cost(y, y_hat)\n",
    "    cost_history.append(cost)\n",
    "    dw, db = compute_gradients(X, y, y_hat, w, reg_lambda)\n",
    "    w, b = update_params(w, b, dw, db, lr)\n",
    "\n",
    "  #   II. Returns the trained parameters 'w' and 'b' and history of the cost for training and validation sets\n",
    "  return w, b, cost_history\n",
    "\n",
    "\n",
    "def predict_proba(X, w, b):\n",
    "  X = X.to_numpy()\n",
    "  z = np.dot(X, w) + b\n",
    "  y_hat = sigmoid(z)\n",
    "  return y_hat"
   ],
   "id": "bc1b96e21757699b",
   "outputs": [],
   "execution_count": 22
  },
  {
   "metadata": {},
   "cell_type": "markdown",
   "source": "#### Training Model with Self-Made Functions",
   "id": "cf315745ec930ca1"
  },
  {
   "metadata": {
    "ExecuteTime": {
     "end_time": "2025-09-17T13:47:04.218438Z",
     "start_time": "2025-09-17T13:47:03.095125Z"
    }
   },
   "cell_type": "code",
   "source": [
    "learning_rate = 0.01\n",
    "n_epochs = 10000\n",
    "valid_params, bias, cost_history = train(X_train, y_train, learning_rate, n_epochs, reg_lambda=0.0, X_val=None, y_val=None)\n",
    "# print(type(cost_history))"
   ],
   "id": "7857cdbaf82f6423",
   "outputs": [],
   "execution_count": 23
  },
  {
   "metadata": {},
   "cell_type": "markdown",
   "source": "#### Plotting Cost History",
   "id": "8baf407be0f093e"
  },
  {
   "metadata": {
    "ExecuteTime": {
     "end_time": "2025-09-17T13:47:04.486475Z",
     "start_time": "2025-09-17T13:47:04.326605Z"
    }
   },
   "cell_type": "code",
   "source": [
    "plt.figure(figsize=(10, 8))\n",
    "plt.plot(range(n_epochs), cost_history, marker='o', linewidth=1.5, label='Train Cost')\n",
    "plt.xlabel('Epoch')\n",
    "plt.ylabel('Cost')\n",
    "plt.ylim(0, 1)\n",
    "plt.title('Training Cost History')\n",
    "plt.legend()\n",
    "plt.show()"
   ],
   "id": "41790263138f75ff",
   "outputs": [
    {
     "data": {
      "text/plain": [
       "<Figure size 1000x800 with 1 Axes>"
      ],
      "image/png": "[encoded data removed]"
     },
     "metadata": {},
     "output_type": "display_data",
     "jetTransient": {
      "display_id": null
     }
    }
   ],
   "execution_count": 24
  },
  {
   "metadata": {},
   "cell_type": "markdown",
   "source": "#### Testing Accuracy of Model",
   "id": "d1625d69359f909b"
  },
  {
   "metadata": {
    "ExecuteTime": {
     "end_time": "2025-09-17T14:00:09.742268Z",
     "start_time": "2025-09-17T14:00:09.730178Z"
    }
   },
   "cell_type": "code",
   "source": [
    "##########################################################################################\n",
    "y_hat = predict_proba(X_val, valid_params, bias)\n",
    "test_data = pd.read_csv(\"./titanic-data/test.csv\")\n",
    "# X_test, y_test = clean_data(test_data)\n",
    "np.set_printoptions(suppress=True, precision=8)\n",
    "print(f\"First 5 results of the survivor probabilty prediction calculation:\\n{y_hat[:5]}\")\n",
    "y_true = np.asarray(y_val).astype(int)\n",
    "y_hat = y_hat.reshape(-1)\n",
    "\n",
    "# Changes the y_hat to binary format\n",
    "for i, y in enumerate(y_hat):\n",
    "  if y >= 0.5: y_hat[i] = 1 # did survive\n",
    "  elif y < 0.5: y_hat[i] = 0 # did not survive\n",
    "\n",
    "accuracy = (y_hat == y_val).mean()\n",
    "############################################################################################\n",
    "# Design a confusion matrix to evaluate the accuracy of the model\n",
    "print(f\"Accuracy of model: {accuracy:.2f}\")"
   ],
   "id": "14767511c6bff357",
   "outputs": [
    {
     "name": "stdout",
     "output_type": "stream",
     "text": [
      "First 5 results of the survivor probabilty prediction calculation:\n",
      "[[0.23849415]\n",
      " [0.13978628]\n",
      " [0.09632063]\n",
      " [0.20804902]\n",
      " [0.62500227]]\n",
      "Accuracy of model: 0.78\n"
     ]
    }
   ],
   "execution_count": 39
  },
  {
   "metadata": {},
   "cell_type": "markdown",
   "source": "### Sci-kit Learn Model",
   "id": "79242c296650e12b"
  },
  {
   "metadata": {
    "ExecuteTime": {
     "end_time": "2025-09-16T22:40:34.772434Z",
     "start_time": "2025-09-16T22:40:34.769166Z"
    }
   },
   "cell_type": "markdown",
   "source": "#### Import Scikit-learn modules",
   "id": "8d95c2448b0f5359"
  },
  {
   "metadata": {
    "ExecuteTime": {
     "end_time": "2025-09-17T13:47:04.526428Z",
     "start_time": "2025-09-17T13:47:04.521764Z"
    }
   },
   "cell_type": "code",
   "source": [
    "from sklearn.linear_model import LogisticRegression\n",
    "from sklearn.metrics import accuracy_score, classification_report, confusion_matrix\n",
    "from sklearn.metrics import log_loss\n",
    "import joblib"
   ],
   "id": "6538a34b39ff5b8d",
   "outputs": [],
   "execution_count": 26
  },
  {
   "metadata": {},
   "cell_type": "markdown",
   "source": "#### Logistic Regression with Sklearn",
   "id": "98d9a90b49d12f35"
  },
  {
   "metadata": {
    "ExecuteTime": {
     "end_time": "2025-09-17T13:47:04.560795Z",
     "start_time": "2025-09-17T13:47:04.540372Z"
    }
   },
   "cell_type": "code",
   "source": [
    "model = LogisticRegression(max_iter=10000, random_state=0)\n",
    "model.fit(X_train, y_true)\n",
    "y_pred = model.predict(X_train)\n",
    "\n",
    "print(f\"Logistic Regression Accuracy:\\n{accuracy_score(y_true, y_pred):.2f}\\n\")\n",
    "print(f\"Classification Report:\\n{classification_report(y_true, y_pred)}\\n\")\n",
    "print(f\"Logistic Regression Confusion Matrix:\\n{confusion_matrix(y_true, y_pred)}\\n\")\n",
    "\n",
    "joblib.dump(model, \"titanic_survivor_pred.pkl\")"
   ],
   "id": "15425d8c053c8038",
   "outputs": [
    {
     "name": "stdout",
     "output_type": "stream",
     "text": [
      "Logistic Regression Accuracy:\n",
      "0.80\n",
      "\n",
      "Classification Report:\n",
      "              precision    recall  f1-score   support\n",
      "\n",
      "           0       0.81      0.86      0.84       424\n",
      "           1       0.77      0.71      0.74       288\n",
      "\n",
      "    accuracy                           0.80       712\n",
      "   macro avg       0.79      0.79      0.79       712\n",
      "weighted avg       0.80      0.80      0.80       712\n",
      "\n",
      "\n",
      "Logistic Regression Confusion Matrix:\n",
      "[[364  60]\n",
      " [ 83 205]]\n",
      "\n"
     ]
    },
    {
     "data": {
      "text/plain": [
       "['titanic_survivor_pred.pkl']"
      ]
     },
     "execution_count": 27,
     "metadata": {},
     "output_type": "execute_result"
    }
   ],
   "execution_count": 27
  },
  {
   "metadata": {},
   "cell_type": "markdown",
   "source": "#### Testing Model",
   "id": "781b12a2e7a5ef49"
  },
  {
   "metadata": {
    "ExecuteTime": {
     "end_time": "2025-09-17T13:47:04.587203Z",
     "start_time": "2025-09-17T13:47:04.572008Z"
    }
   },
   "cell_type": "code",
   "source": [
    "test_data = pd.read_csv(\"./titanic-data/test.csv\")\n",
    "test_data_clean = clean_data(test_data)\n",
    "test_data_id = test_data_clean['PassengerId'].copy()\n",
    "X_test = X_data(test_data_clean)\n",
    "\n",
    "loaded_model = joblib.load(\"titanic_survivor_pred.pkl\")\n",
    "survivor_pred = model.predict(X_test)\n",
    "survivor_prob = model.predict_proba(X_test)[:, 1]\n",
    "\n",
    "# print(test_data_id.shape)\n",
    "# print(survivor_pred.shape)\n",
    "# print(survivor_prob.shape)\n",
    "\n",
    "results = pd.DataFrame ( {\n",
    "  'PassengerId': test_data_id,\n",
    "  'Survived': survivor_pred,\n",
    "  'Survival Probability': survivor_prob\n",
    "} )\n",
    "print(results.head())"
   ],
   "id": "e1a313c1c85f02a1",
   "outputs": [
    {
     "name": "stdout",
     "output_type": "stream",
     "text": [
      "   PassengerId  Survived  Survival Probability\n",
      "0          892         0              0.070371\n",
      "1          893         0              0.359385\n",
      "2          894         0              0.085839\n",
      "3          895         0              0.106743\n",
      "4          896         1              0.547768\n"
     ]
    }
   ],
   "execution_count": 28
  }
 ],
 "metadata": {
  "kernelspec": {
   "display_name": "Python 3",
   "language": "python",
   "name": "python3"
  },
  "language_info": {
   "codemirror_mode": {
    "name": "ipython",
    "version": 2
   },
   "file_extension": ".py",
   "mimetype": "text/x-python",
   "name": "python",
   "nbconvert_exporter": "python",
   "pygments_lexer": "ipython2",
   "version": "2.7.6"
  }
 },
 "nbformat": 4,
 "nbformat_minor": 5
}
