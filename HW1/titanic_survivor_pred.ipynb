{
 "cells": [
  {
   "metadata": {
    "collapsed": true
   },
   "cell_type": "markdown",
   "source": "#### Loading Packages",
   "id": "f6d97ecd2ff6ccc2"
  },
  {
   "metadata": {
    "ExecuteTime": {
     "end_time": "2025-09-15T02:29:18.313308Z",
     "start_time": "2025-09-15T02:29:18.309755Z"
    }
   },
   "cell_type": "code",
   "source": [
    "import pandas as pd\n",
    "import numpy as np\n",
    "import matplotlib as plt"
   ],
   "id": "39ba64447978dd66",
   "outputs": [],
   "execution_count": 2
  },
  {
   "metadata": {},
   "cell_type": "markdown",
   "source": "#### Implementing Gradient Descent",
   "id": "75ba21c20d7d4b2d"
  },
  {
   "metadata": {},
   "cell_type": "code",
   "outputs": [],
   "execution_count": null,
   "source": [
    "# 1. Calculate prediction\n",
    "\n",
    "\n",
    "# 2. Find loss (maybe do cost instead?)\n",
    "\n",
    "\n",
    "# 3. Determine gradient"
   ],
   "id": "9a7cb456055ac546"
  },
  {
   "metadata": {
    "ExecuteTime": {
     "end_time": "2025-09-13T23:04:23.854688Z",
     "start_time": "2025-09-13T23:04:23.851389Z"
    }
   },
   "cell_type": "code",
   "source": "  # def regression_classifier():",
   "id": "2c2aece47e7352ed",
   "outputs": [],
   "execution_count": 7
  },
  {
   "metadata": {},
   "cell_type": "markdown",
   "source": [
    "#### Read in & Clean Data\n",
    "- will need to remove cabin and age columns\n",
    "- some cells in embarked are null so won't need to remove all but can just remove those rows"
   ],
   "id": "b408d3642e6534e0"
  },
  {
   "metadata": {
    "ExecuteTime": {
     "end_time": "2025-09-15T02:59:18.664395Z",
     "start_time": "2025-09-15T02:59:18.651567Z"
    }
   },
   "cell_type": "code",
   "source": [
    "original_data = pd.read_csv(\"./titanic-data/train.csv\")\n",
    "print(f\"Training data original shape: {original_data.shape}\")\n",
    "\n",
    "# Removing columns and rows will null data cells\n",
    "training_data = original_data.drop(columns = 'Cabin') # removed whole column since majority were NA\n",
    "training_data = training_data.dropna() # cleans out NA values spread out between columns by removing whole entire row\n",
    "\n",
    "# print(f\"Cabin Column Dropped due to many null values:\\n{training_data}\")\n",
    "print(f\"Training data shape after cleaning: {training_data.shape}\")\n",
    "print(f\"Samples Removed: {original_data.shape[0] - training_data.shape[0]}\")"
   ],
   "id": "3654f99c53979659",
   "outputs": [
    {
     "name": "stdout",
     "output_type": "stream",
     "text": [
      "Training data original shape: (891, 12)\n",
      "Training data shape after cleaning: (712, 11)\n",
      "Samples Removed: 179\n"
     ]
    }
   ],
   "execution_count": 23
  },
  {
   "metadata": {},
   "cell_type": "markdown",
   "source": "#### One Hot Encoding",
   "id": "eb87f19b16010b95"
  },
  {
   "metadata": {
    "ExecuteTime": {
     "end_time": "2025-09-15T03:44:42.648800Z",
     "start_time": "2025-09-15T03:44:42.632277Z"
    }
   },
   "cell_type": "code",
   "source": [
    "X = training_data.drop('Survived', axis = 1)\n",
    "# removes columns that have no effect on outcome and help reduce dimensionality before training\n",
    "X = X.drop(['PassengerId', 'Name', 'Ticket'], axis = 1)\n",
    "print(f\"Training data before one-hot encoding:\\n\\n{X.head()}\")\n",
    "target = training_data['Survived']\n",
    "\n",
    "X = pd.get_dummies(X, columns=['Sex', 'Embarked'], dtype=int, drop_first = True)\n",
    "\n",
    "# Sex_female and Embarked_C not included due to drop_first being set to True\n",
    "print(\"\\n\\n\")\n",
    "print(f\"Training data after one-hot encoding:\\n\\n{X.head()}\")"
   ],
   "id": "41da79c3f58c6510",
   "outputs": [
    {
     "name": "stdout",
     "output_type": "stream",
     "text": [
      "Training data before one-hot encoding:\n",
      "\n",
      "   Pclass     Sex   Age  SibSp  Parch     Fare Embarked\n",
      "0       3    male  22.0      1      0   7.2500        S\n",
      "1       1  female  38.0      1      0  71.2833        C\n",
      "2       3  female  26.0      0      0   7.9250        S\n",
      "3       1  female  35.0      1      0  53.1000        S\n",
      "4       3    male  35.0      0      0   8.0500        S\n",
      "\n",
      "\n",
      "\n",
      "Training data after one-hot encoding:\n",
      "\n",
      "   Pclass   Age  SibSp  Parch     Fare  Sex_male  Embarked_Q  Embarked_S\n",
      "0       3  22.0      1      0   7.2500         1           0           1\n",
      "1       1  38.0      1      0  71.2833         0           0           0\n",
      "2       3  26.0      0      0   7.9250         0           0           1\n",
      "3       1  35.0      1      0  53.1000         0           0           1\n",
      "4       3  35.0      0      0   8.0500         1           0           1\n"
     ]
    }
   ],
   "execution_count": 42
  },
  {
   "metadata": {},
   "cell_type": "code",
   "outputs": [],
   "execution_count": null,
   "source": "",
   "id": "af77f37fc3a8db6c"
  }
 ],
 "metadata": {
  "kernelspec": {
   "display_name": "Python 3",
   "language": "python",
   "name": "python3"
  },
  "language_info": {
   "codemirror_mode": {
    "name": "ipython",
    "version": 2
   },
   "file_extension": ".py",
   "mimetype": "text/x-python",
   "name": "python",
   "nbconvert_exporter": "python",
   "pygments_lexer": "ipython2",
   "version": "2.7.6"
  }
 },
 "nbformat": 4,
 "nbformat_minor": 5
}
