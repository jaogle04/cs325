{
 "cells": [
  {
   "metadata": {
    "collapsed": true
   },
   "cell_type": "markdown",
   "source": "#### Loading Packages",
   "id": "f6d97ecd2ff6ccc2"
  },
  {
   "metadata": {
    "ExecuteTime": {
     "end_time": "2025-09-15T02:29:18.313308Z",
     "start_time": "2025-09-15T02:29:18.309755Z"
    }
   },
   "cell_type": "code",
   "source": [
    "import pandas as pd\n",
    "import numpy as np\n",
    "import matplotlib as plt"
   ],
   "id": "39ba64447978dd66",
   "outputs": [],
   "execution_count": 2
  },
  {
   "metadata": {},
   "cell_type": "markdown",
   "source": "#### Implementing Gradient Descent",
   "id": "75ba21c20d7d4b2d"
  },
  {
   "metadata": {},
   "cell_type": "code",
   "outputs": [],
   "execution_count": null,
   "source": [
    "# 1. Calculate prediction\n",
    "\n",
    "\n",
    "# 2. Find loss (maybe do cost instead?)\n",
    "\n",
    "\n",
    "# 3. Determine gradient"
   ],
   "id": "9a7cb456055ac546"
  },
  {
   "metadata": {
    "ExecuteTime": {
     "end_time": "2025-09-13T23:04:23.854688Z",
     "start_time": "2025-09-13T23:04:23.851389Z"
    }
   },
   "cell_type": "code",
   "source": "  # def regression_classifier():",
   "id": "2c2aece47e7352ed",
   "outputs": [],
   "execution_count": 7
  },
  {
   "metadata": {},
   "cell_type": "markdown",
   "source": [
    "#### Read in & Clean Data\n",
    "- will need to remove cabin and age columns\n",
    "- some cells in embarked are null so won't need to remove all but can just remove those rows"
   ],
   "id": "b408d3642e6534e0"
  },
  {
   "metadata": {
    "ExecuteTime": {
     "end_time": "2025-09-15T02:44:58.727062Z",
     "start_time": "2025-09-15T02:44:58.711861Z"
    }
   },
   "cell_type": "code",
   "source": [
    "training_data = pd.read_csv(\"./titanic-data/train.csv\")\n",
    "\n",
    "# Removing columns and rows will null data cells\n",
    "training_data = training_data.drop(columns = 'Cabin')\n",
    "training_data = training_data.dropna() # drops rows with na value\n",
    "\n",
    "print(f\"Cabin Column Dropped due to many null values:\\n{training_data}\")"
   ],
   "id": "3654f99c53979659",
   "outputs": [
    {
     "name": "stdout",
     "output_type": "stream",
     "text": [
      "Cabin Column Dropped due to many null values:\n",
      "     PassengerId  Survived  Pclass  \\\n",
      "0              1         0       3   \n",
      "1              2         1       1   \n",
      "2              3         1       3   \n",
      "3              4         1       1   \n",
      "4              5         0       3   \n",
      "..           ...       ...     ...   \n",
      "885          886         0       3   \n",
      "886          887         0       2   \n",
      "887          888         1       1   \n",
      "889          890         1       1   \n",
      "890          891         0       3   \n",
      "\n",
      "                                                  Name     Sex   Age  SibSp  \\\n",
      "0                              Braund, Mr. Owen Harris    male  22.0      1   \n",
      "1    Cumings, Mrs. John Bradley (Florence Briggs Th...  female  38.0      1   \n",
      "2                               Heikkinen, Miss. Laina  female  26.0      0   \n",
      "3         Futrelle, Mrs. Jacques Heath (Lily May Peel)  female  35.0      1   \n",
      "4                             Allen, Mr. William Henry    male  35.0      0   \n",
      "..                                                 ...     ...   ...    ...   \n",
      "885               Rice, Mrs. William (Margaret Norton)  female  39.0      0   \n",
      "886                              Montvila, Rev. Juozas    male  27.0      0   \n",
      "887                       Graham, Miss. Margaret Edith  female  19.0      0   \n",
      "889                              Behr, Mr. Karl Howell    male  26.0      0   \n",
      "890                                Dooley, Mr. Patrick    male  32.0      0   \n",
      "\n",
      "     Parch            Ticket     Fare Embarked  \n",
      "0        0         A/5 21171   7.2500        S  \n",
      "1        0          PC 17599  71.2833        C  \n",
      "2        0  STON/O2. 3101282   7.9250        S  \n",
      "3        0            113803  53.1000        S  \n",
      "4        0            373450   8.0500        S  \n",
      "..     ...               ...      ...      ...  \n",
      "885      5            382652  29.1250        Q  \n",
      "886      0            211536  13.0000        S  \n",
      "887      0            112053  30.0000        S  \n",
      "889      0            111369  30.0000        C  \n",
      "890      0            370376   7.7500        Q  \n",
      "\n",
      "[712 rows x 11 columns]\n"
     ]
    }
   ],
   "execution_count": 15
  },
  {
   "metadata": {},
   "cell_type": "code",
   "outputs": [],
   "execution_count": null,
   "source": "",
   "id": "41da79c3f58c6510"
  }
 ],
 "metadata": {
  "kernelspec": {
   "display_name": "Python 3",
   "language": "python",
   "name": "python3"
  },
  "language_info": {
   "codemirror_mode": {
    "name": "ipython",
    "version": 2
   },
   "file_extension": ".py",
   "mimetype": "text/x-python",
   "name": "python",
   "nbconvert_exporter": "python",
   "pygments_lexer": "ipython2",
   "version": "2.7.6"
  }
 },
 "nbformat": 4,
 "nbformat_minor": 5
}
