{
 "cells": [
  {
   "metadata": {
    "collapsed": true
   },
   "cell_type": "markdown",
   "source": [
    "# TASK 1\n",
    "### REVIEW\n",
    "lecture 4 Probability theory:\n",
    "- experimental probability\n",
    "- continuous & discrete probability distribution\n",
    "  >  binomial & geometric distributions\n",
    "\n",
    "## OBJECTIVE\n",
    "1. simulate 100,000 trials in Python where you draw until you draw an ace and record trial number of first success\n",
    "2. estimate probability of draw at 4"
   ],
   "id": "f68efd430e2dbef3"
  },
  {
   "metadata": {},
   "cell_type": "code",
   "outputs": [],
   "execution_count": null,
   "source": [
    "%matplotlib inline\n",
    "\n",
    "import matplotlib as plt\n",
    "import numpy as np\n",
    "import pandas as pd\n",
    "from IPython.display import clear_output"
   ],
   "id": "17cb929c60ded802"
  },
  {
   "metadata": {},
   "cell_type": "markdown",
   "source": "#### Drawing Ace Simulation",
   "id": "2c69bdfbd434984a"
  },
  {
   "metadata": {},
   "cell_type": "code",
   "outputs": [],
   "execution_count": null,
   "source": "",
   "id": "1a6748332ea5dbb3"
  }
 ],
 "metadata": {
  "kernelspec": {
   "display_name": "Python 3",
   "language": "python",
   "name": "python3"
  },
  "language_info": {
   "codemirror_mode": {
    "name": "ipython",
    "version": 2
   },
   "file_extension": ".py",
   "mimetype": "text/x-python",
   "name": "python",
   "nbconvert_exporter": "python",
   "pygments_lexer": "ipython2",
   "version": "2.7.6"
  }
 },
 "nbformat": 4,
 "nbformat_minor": 5
}
