{
 "cells": [
  {
   "metadata": {
    "collapsed": true
   },
   "cell_type": "markdown",
   "source": [
    "# TASK 1\n",
    "### REVIEW\n",
    "lecture 4 Probability theory:\n",
    "- experimental probability\n",
    "- continuous & discrete probability distribution\n",
    "  >  binomial & geometric distributions\n",
    "\n",
    "### THEORY\n",
    "1. calculate the probability of drawing an ace on first draw from a 52 card deck\n",
    "2. calculate the probability of drawing the first ace on the fourth draw\n",
    "  > use geometric distribution formula\n",
    "\n",
    "### PYTHON SIMULATION\n",
    "1. simulate 100,000 trials in Python where you draw until you draw an ace and record trial number of first success\n",
    "2. estimate probability of draw at 4"
   ],
   "id": "f68efd430e2dbef3"
  },
  {
   "metadata": {
    "ExecuteTime": {
     "end_time": "2025-09-09T23:07:22.990276Z",
     "start_time": "2025-09-09T23:07:22.946240Z"
    }
   },
   "cell_type": "code",
   "source": [
    "%matplotlib inline\n",
    "\n",
    "import matplotlib as plt\n",
    "import numpy as np\n",
    "import pandas as pd\n",
    "import random"
   ],
   "id": "17cb929c60ded802",
   "outputs": [],
   "execution_count": 27
  },
  {
   "metadata": {},
   "cell_type": "markdown",
   "source": "#### Theory",
   "id": "404e2d248dd9d8a7"
  },
  {
   "metadata": {
    "ExecuteTime": {
     "end_time": "2025-09-09T23:07:23.951384Z",
     "start_time": "2025-09-09T23:07:23.944703Z"
    }
   },
   "cell_type": "code",
   "source": [
    "## STEP 1\n",
    "# Probabilty for drawing an ace\n",
    "deck = 52\n",
    "total_amount_aces = 4;\n",
    "\n",
    "probability = total_amount_aces/deck\n",
    "probability = round(probability, 3)\n",
    "print(f\"The probability of drawing an ace from a deck of 52 cards in one draw is {probability}%\")"
   ],
   "id": "ee35bff3af4063e8",
   "outputs": [
    {
     "name": "stdout",
     "output_type": "stream",
     "text": [
      "The probability of drawing an ace from a deck of 52 cards in one draw is 0.077%\n"
     ]
    }
   ],
   "execution_count": 28
  },
  {
   "metadata": {
    "ExecuteTime": {
     "end_time": "2025-09-09T23:07:24.366487Z",
     "start_time": "2025-09-09T23:07:24.362348Z"
    }
   },
   "cell_type": "code",
   "source": [
    "## STEP 2\n",
    "# the probability of drawing first ace on the fourth draw\n",
    "trials = 4\n",
    "prob = ( (1 - (total_amount_aces/deck) ) ** (trials - 1) ) * (total_amount_aces/deck)\n",
    "print(f\"The probability of drawing an ace on your first ace from a deck of 52 cards on the fourth draw is {round(prob, 3)}%\")"
   ],
   "id": "3313f1b359ea38fb",
   "outputs": [
    {
     "name": "stdout",
     "output_type": "stream",
     "text": [
      "The probability of drawing an ace on your first ace from a deck of 52 cards on the fourth draw is 0.061%\n"
     ]
    }
   ],
   "execution_count": 29
  },
  {
   "metadata": {},
   "cell_type": "markdown",
   "source": "#### Python Simulation",
   "id": "2c69bdfbd434984a"
  },
  {
   "metadata": {
    "ExecuteTime": {
     "end_time": "2025-09-09T23:07:25.407739Z",
     "start_time": "2025-09-09T23:07:25.403134Z"
    }
   },
   "cell_type": "code",
   "source": [
    "# Creating deck\n",
    "suits = ['Spade', 'Club', 'Diamond', 'Heart']\n",
    "cards = ['2', '3', '4', '5', '6', '7', '8', '9', '10', 'Jack', 'Queen', 'King', 'Ace']\n",
    "deck = []\n",
    "\n",
    "for i, suit in enumerate(suits):\n",
    "  for j, card in enumerate(cards):\n",
    "    deck.append(f\"{suits[i]} of {cards[j]}\")\n",
    "\n",
    "print(deck)"
   ],
   "id": "ebf71b47838d8cec",
   "outputs": [
    {
     "name": "stdout",
     "output_type": "stream",
     "text": [
      "['Spade of 2', 'Spade of 3', 'Spade of 4', 'Spade of 5', 'Spade of 6', 'Spade of 7', 'Spade of 8', 'Spade of 9', 'Spade of 10', 'Spade of Jack', 'Spade of Queen', 'Spade of King', 'Spade of Ace', 'Club of 2', 'Club of 3', 'Club of 4', 'Club of 5', 'Club of 6', 'Club of 7', 'Club of 8', 'Club of 9', 'Club of 10', 'Club of Jack', 'Club of Queen', 'Club of King', 'Club of Ace', 'Diamond of 2', 'Diamond of 3', 'Diamond of 4', 'Diamond of 5', 'Diamond of 6', 'Diamond of 7', 'Diamond of 8', 'Diamond of 9', 'Diamond of 10', 'Diamond of Jack', 'Diamond of Queen', 'Diamond of King', 'Diamond of Ace', 'Heart of 2', 'Heart of 3', 'Heart of 4', 'Heart of 5', 'Heart of 6', 'Heart of 7', 'Heart of 8', 'Heart of 9', 'Heart of 10', 'Heart of Jack', 'Heart of Queen', 'Heart of King', 'Heart of Ace']\n"
     ]
    }
   ],
   "execution_count": 30
  },
  {
   "metadata": {
    "ExecuteTime": {
     "end_time": "2025-09-09T23:30:09.245931Z",
     "start_time": "2025-09-09T23:30:09.239057Z"
    }
   },
   "cell_type": "code",
   "source": [
    "# Create a for loop where I can set an n # of trials\n",
    "# need to create a data set for a deck of cards\n",
    "# - create a data structure of 52 numbers with ace = 1 and  non-ace = 0\n",
    "trials = 100000\n",
    "trialNum = 0\n",
    "\n",
    "for n in range(trials):\n",
    "  random.shuffle(deck) # will give us a new deck order each time\n",
    "  cardDrawn = deck[0] # 1st index acts as the top card of the deck\n",
    "\n",
    "\n",
    "  if cardDrawn[-3:] == 'Ace':\n",
    "    break\n",
    "\n",
    "  trialNum += 1\n",
    "\n",
    "print(f\"{cardDrawn} was drawn on trial {trialNum}\")"
   ],
   "id": "1a6748332ea5dbb3",
   "outputs": [
    {
     "name": "stdout",
     "output_type": "stream",
     "text": [
      "Club of Ace was drawn on trial 11\n"
     ]
    }
   ],
   "execution_count": 64
  }
 ],
 "metadata": {
  "kernelspec": {
   "display_name": "Python 3",
   "language": "python",
   "name": "python3"
  },
  "language_info": {
   "codemirror_mode": {
    "name": "ipython",
    "version": 2
   },
   "file_extension": ".py",
   "mimetype": "text/x-python",
   "name": "python",
   "nbconvert_exporter": "python",
   "pygments_lexer": "ipython2",
   "version": "2.7.6"
  }
 },
 "nbformat": 4,
 "nbformat_minor": 5
}
