{
 "cells": [
  {
   "metadata": {
    "collapsed": true
   },
   "cell_type": "markdown",
   "source": [
    "# TASK 1\n",
    "### REVIEW\n",
    "lecture 4 Probability theory:\n",
    "- experimental probability\n",
    "- continuous & discrete probability distribution\n",
    "  >  binomial & geometric distributions\n",
    "\n",
    "### THEORY\n",
    "1. calculate the probability of drawing an ace on first draw from a 52 card deck\n",
    "2. calculate the probability of drawing the first ace on the fourth draw\n",
    "  > use geometric distribution formula\n",
    "\n",
    "### PYTHON SIMULATION\n",
    "1. simulate 100,000 trials in Python where you draw until you draw an ace and record trial number of first success\n",
    "2. estimate probability of draw at 4"
   ],
   "id": "f68efd430e2dbef3"
  },
  {
   "metadata": {
    "ExecuteTime": {
     "end_time": "2025-09-07T21:30:05.173862Z",
     "start_time": "2025-09-07T21:30:03.193214Z"
    }
   },
   "cell_type": "code",
   "source": [
    "%matplotlib inline\n",
    "\n",
    "import matplotlib as plt\n",
    "import numpy as np\n",
    "import pandas as pd"
   ],
   "id": "17cb929c60ded802",
   "outputs": [],
   "execution_count": 1
  },
  {
   "metadata": {},
   "cell_type": "markdown",
   "source": "#### Theory",
   "id": "404e2d248dd9d8a7"
  },
  {
   "metadata": {},
   "cell_type": "code",
   "outputs": [],
   "execution_count": null,
   "source": "#",
   "id": "ee35bff3af4063e8"
  },
  {
   "metadata": {},
   "cell_type": "markdown",
   "source": "#### Python Simulation",
   "id": "2c69bdfbd434984a"
  },
  {
   "metadata": {},
   "cell_type": "code",
   "outputs": [],
   "execution_count": null,
   "source": "",
   "id": "1a6748332ea5dbb3"
  }
 ],
 "metadata": {
  "kernelspec": {
   "display_name": "Python 3",
   "language": "python",
   "name": "python3"
  },
  "language_info": {
   "codemirror_mode": {
    "name": "ipython",
    "version": 2
   },
   "file_extension": ".py",
   "mimetype": "text/x-python",
   "name": "python",
   "nbconvert_exporter": "python",
   "pygments_lexer": "ipython2",
   "version": "2.7.6"
  }
 },
 "nbformat": 4,
 "nbformat_minor": 5
}
